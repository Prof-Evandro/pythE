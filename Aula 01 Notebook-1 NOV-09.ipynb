{
    "metadata": {
        "kernelspec": {
            "name": "python3",
            "display_name": "Python 3"
        },
        "language_info": {
            "name": "python",
            "version": "3.6.6",
            "mimetype": "text/x-python",
            "codemirror_mode": {
                "name": "ipython",
                "version": 3
            },
            "pygments_lexer": "ipython3",
            "nbconvert_exporter": "python",
            "file_extension": ".py"
        }
    },
    "nbformat_minor": 2,
    "nbformat": 4,
    "cells": [
        {
            "cell_type": "code",
            "source": [
                "a=2\r\n",
                "b=60\r\n",
                "c=b/a\r\n",
                "print(c)"
            ],
            "metadata": {
                "azdata_cell_guid": "24dc868a-0b01-4cb6-9ca6-06855cffd916",
                "tags": [
                    "hide_input"
                ]
            },
            "outputs": [],
            "execution_count": null
        },
        {
            "cell_type": "code",
            "source": [
                "texto=\"10\"\r\n",
                "Num=float(texto)\r\n",
                "#Num=int(texto)\r\n",
                "#print(Num)\r\n",
                "print(texto + str(15)*2)\r\n",
                "print(Num+10)"
            ],
            "metadata": {
                "azdata_cell_guid": "abecd598-4170-4bcf-8086-05a16148db12",
                "tags": [
                    "hide_input"
                ]
            },
            "outputs": [],
            "execution_count": null
        },
        {
            "cell_type": "code",
            "source": [
                "idade=28\r\n",
                "if idade < 20:\r\n",
                "    print('Jovem')\r\n",
                "    print(len('Nada'))"
            ],
            "metadata": {
                "azdata_cell_guid": "0201d6e3-a676-4faa-9b9e-a21c10f8a247",
                "tags": [
                    "hide_input"
                ]
            },
            "outputs": [],
            "execution_count": null
        },
        {
            "cell_type": "code",
            "source": [
                "#idade=18\r\n",
                "if idade<=18:\r\n",
                "    print('Menor de idade')\r\n",
                "else:\r\n",
                "    print('Maior de idade')"
            ],
            "metadata": {
                "azdata_cell_guid": "e61c28fc-04ac-48ac-b7dc-0fc8e9b5a701",
                "tags": [
                    "hide_input"
                ]
            },
            "outputs": [],
            "execution_count": null
        },
        {
            "cell_type": "code",
            "source": [
                "idade=88\r\n",
                "if idade < 12:\r\n",
                "    print('Criança')\r\n",
                "elif idade<18:\r\n",
                "    print('Adolescente')\r\n",
                "elif idade <60:\r\n",
                "    print('Adulto')\r\n",
                "else:\r\n",
                "    print('Idoso')\r\n",
                ""
            ],
            "metadata": {
                "azdata_cell_guid": "05e9809f-5d9e-43ea-9ab7-9aa175d575da",
                "tags": [
                    "hide_input"
                ]
            },
            "outputs": [],
            "execution_count": null
        },
        {
            "cell_type": "code",
            "source": [
                "#from datetime import datetime\n",
                "a=22\n",
                "print(a)\n",
                "import datetime\n",
                "agora=datetime.now()\n",
                "print(agora)\n",
                "print(agora.year)\n",
                "print(agora.month)\n",
                "print(agora.day)\n",
                "print(agora.hour)"
            ],
            "metadata": {
                "azdata_cell_guid": "fd12ea02-3021-4886-bbe8-4475b962e326",
                "tags": []
            },
            "outputs": [
                {
                    "name": "stdout",
                    "text": "22\n",
                    "output_type": "stream"
                },
                {
                    "traceback": [
                        "\u001b[1;31m---------------------------------------------------------------------------\u001b[0m",
                        "\u001b[1;31mAttributeError\u001b[0m                            Traceback (most recent call last)",
                        "\u001b[1;32m<ipython-input-2-a5eb46f74f9d>\u001b[0m in \u001b[0;36m<module>\u001b[1;34m\u001b[0m\n\u001b[0;32m      3\u001b[0m \u001b[0mprint\u001b[0m\u001b[1;33m(\u001b[0m\u001b[0ma\u001b[0m\u001b[1;33m)\u001b[0m\u001b[1;33m\u001b[0m\u001b[0m\n\u001b[0;32m      4\u001b[0m \u001b[1;32mimport\u001b[0m \u001b[0mdatetime\u001b[0m\u001b[1;33m\u001b[0m\u001b[0m\n\u001b[1;32m----> 5\u001b[1;33m \u001b[0magora\u001b[0m\u001b[1;33m=\u001b[0m\u001b[0mdatetime\u001b[0m\u001b[1;33m.\u001b[0m\u001b[0mnow\u001b[0m\u001b[1;33m(\u001b[0m\u001b[1;33m)\u001b[0m\u001b[1;33m\u001b[0m\u001b[0m\n\u001b[0m\u001b[0;32m      6\u001b[0m \u001b[0mprint\u001b[0m\u001b[1;33m(\u001b[0m\u001b[0magora\u001b[0m\u001b[1;33m)\u001b[0m\u001b[1;33m\u001b[0m\u001b[0m\n\u001b[0;32m      7\u001b[0m \u001b[0mprint\u001b[0m\u001b[1;33m(\u001b[0m\u001b[0magora\u001b[0m\u001b[1;33m.\u001b[0m\u001b[0myear\u001b[0m\u001b[1;33m)\u001b[0m\u001b[1;33m\u001b[0m\u001b[0m\n",
                        "\u001b[1;31mAttributeError\u001b[0m: module 'datetime' has no attribute 'now'"
                    ],
                    "ename": "AttributeError",
                    "evalue": "module 'datetime' has no attribute 'now'",
                    "output_type": "error"
                }
            ],
            "execution_count": 2
        },
        {
            "cell_type": "code",
            "source": [
                "x = [1,2,3]\r\n",
                "y = x\r\n",
                "x.append(4)\r\n",
                "print(y)"
            ],
            "metadata": {
                "azdata_cell_guid": "c4b8d495-39e7-4cd1-8f34-2dfd780d018c"
            },
            "outputs": [],
            "execution_count": null
        },
        {
            "cell_type": "code",
            "source": [
                "a = float(22/5)\r\n",
                "b = int(4.5)\r\n",
                "c = int(3.9)\r\n",
                "d = float(int(3.9))\r\n",
                "e = int(float(3.9))\r\n",
                "f = int(float(3))\r\n",
                "g = round(3.9)\r\n",
                "h = round(3)\r\n",
                "i = int(round(3.9))\r\n",
                "print(a,b,c,d,e,f,g,h,i)\r\n",
                "# 4.4 4 3 3.0 3 3 4 3 4"
            ],
            "metadata": {
                "azdata_cell_guid": "413f8fae-3466-4cb4-af77-f078a2275717",
                "tags": [
                    "hide_input"
                ]
            },
            "outputs": [],
            "execution_count": null
        },
        {
            "cell_type": "code",
            "source": [
                "a = 'Primeiro texto. '\r\n",
                "b = 'Segundo texto. '\r\n",
                "c = 'Terceiro texto.'\r\n",
                "print(a + b +  c)"
            ],
            "metadata": {
                "azdata_cell_guid": "11cf64e2-6d0e-4dfa-9a04-eb467447c7b6"
            },
            "outputs": [],
            "execution_count": null
        },
        {
            "cell_type": "code",
            "source": [
                "# Interseção &\n",
                "c = {'Paula', 'Erica', 'Marcio'}\n",
                "b = {'Ana', 'João', 'Paula'}\n",
                "a = c & b\n",
                "print(a)\n",
                ""
            ],
            "metadata": {
                "azdata_cell_guid": "634e1d60-02af-4221-9d07-7425c7a7a8fa"
            },
            "outputs": [
                {
                    "traceback": [
                        "\u001b[1;36m  File \u001b[1;32m\"<ipython-input-1-03cb232afaac>\"\u001b[1;36m, line \u001b[1;32m2\u001b[0m\n\u001b[1;33m    c = {'Paula', 'Erica', 'Marcio'}\u001b[0m\n\u001b[1;37m     ^\u001b[0m\n\u001b[1;31mSyntaxError\u001b[0m\u001b[1;31m:\u001b[0m invalid character in identifier\n"
                    ],
                    "ename": "SyntaxError",
                    "evalue": "invalid character in identifier (<ipython-input-1-03cb232afaac>, line 2)",
                    "output_type": "error"
                }
            ],
            "execution_count": 1
        },
        {
            "cell_type": "code",
            "source": [
                "a = 'Isso é uma String com aspas Simples'\r\n",
                "b = \"Isso é uma String com aspas Duplas\"\r\n",
                "c = \"\"\"Isso é Uma String com aspas Triplas\"\"\"\r\n",
                "print(a + \"\\n\" + b + \"\\n\" + c)\r\n",
                "# \\n é o comando para quebra de linha"
            ],
            "metadata": {
                "azdata_cell_guid": "f1c6cc64-7eda-4f66-adae-eb229fc9dbe3",
                "tags": []
            },
            "outputs": [],
            "execution_count": null
        }
    ]
}